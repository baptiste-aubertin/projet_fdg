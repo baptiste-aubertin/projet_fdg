{
 "cells": [
  {
   "cell_type": "code",
   "execution_count": 1,
   "metadata": {},
   "outputs": [],
   "source": [
    "%load_ext autoreload\n",
    "%autoreload 2"
   ]
  },
  {
   "cell_type": "code",
   "execution_count": 2,
   "metadata": {},
   "outputs": [],
   "source": [
    "import sys\n",
    "sys.path.append('./RSAlgorithms/')\n"
   ]
  },
  {
   "cell_type": "code",
   "execution_count": 14,
   "metadata": {},
   "outputs": [],
   "source": [
    "from RSAlgorithms.model.social_cune import CUNE\n",
    "from RSAlgorithms.utility.cross_validation import split_5_folds\n",
    "from RSAlgorithms.configx.configx import ConfigX"
   ]
  },
  {
   "cell_type": "code",
   "execution_count": 15,
   "metadata": {},
   "outputs": [],
   "source": [
    "config = ConfigX()"
   ]
  },
  {
   "cell_type": "code",
   "execution_count": 18,
   "metadata": {},
   "outputs": [
    {
     "name": "stdout",
     "output_type": "stream",
     "text": [
      "ft -fold0 data generated finished!\n",
      "ft -fold1 data generated finished!\n",
      "ft -fold2 data generated finished!\n",
      "ft -fold3 data generated finished!\n",
      "ft -fold4 data generated finished!\n",
      "All Data Generated Done!\n"
     ]
    }
   ],
   "source": [
    "# Faut faire ça jsp pourquoi MANGE TES MORTS LINDA\n",
    "split_5_folds(config)"
   ]
  },
  {
   "cell_type": "code",
   "execution_count": 9,
   "metadata": {},
   "outputs": [
    {
     "name": "stdout",
     "output_type": "stream",
     "text": [
      "{\n",
      "    'dataset_name': 'ft',\n",
      "    'k_fold_num': 5,\n",
      "    'rating_path': './RSAlgorithms/data/ft_ratings.txt',\n",
      "    'rating_cv_path': './RSAlgorithms/data/cv/',\n",
      "    'trust_path': './RSAlgorithms/data/ft_trust.txt',\n",
      "    'sep': ' ',\n",
      "    'random_state': 0,\n",
      "    'size': 0.8,\n",
      "    'min_val': 0.5,\n",
      "    'max_val': 4.0,\n",
      "    'coldUserRating': 5,\n",
      "    'factor': 10,\n",
      "    'threshold': 0.0001,\n",
      "    'lr': 0.01,\n",
      "    'maxIter': 100,\n",
      "    'lambdaP': 0.001,\n",
      "    'lambdaQ': 0.001,\n",
      "    'gamma': 0,\n",
      "    'isEarlyStopping': False,\n",
      "    'result_path': './RSAlgorithms/results/',\n",
      "    'model_path': '../RSAlgorithms/model/',\n",
      "    'result_log_path': 'log/'\n",
      "}\n"
     ]
    }
   ],
   "source": [
    "cune_model = CUNE()"
   ]
  },
  {
   "cell_type": "code",
   "execution_count": 12,
   "metadata": {},
   "outputs": [
    {
     "name": "stdout",
     "output_type": "stream",
     "text": [
      "./RSAlgorithms/data/cv/ft-0.csv\n",
      "the format of ratings data is wrong!\n"
     ]
    },
    {
     "ename": "SystemExit",
     "evalue": "",
     "output_type": "error",
     "traceback": [
      "An exception has occurred, use %tb to see the full traceback.\n",
      "\u001b[0;31mSystemExit\u001b[0m\n"
     ]
    }
   ],
   "source": [
    "\n"
   ]
  }
 ],
 "metadata": {
  "kernelspec": {
   "display_name": "m2",
   "language": "python",
   "name": "python3"
  },
  "language_info": {
   "codemirror_mode": {
    "name": "ipython",
    "version": 3
   },
   "file_extension": ".py",
   "mimetype": "text/x-python",
   "name": "python",
   "nbconvert_exporter": "python",
   "pygments_lexer": "ipython3",
   "version": "3.9.16"
  }
 },
 "nbformat": 4,
 "nbformat_minor": 2
}
