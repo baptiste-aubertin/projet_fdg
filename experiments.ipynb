{
 "cells": [
  {
   "cell_type": "code",
   "execution_count": null,
   "metadata": {},
   "outputs": [],
   "source": [
    "%load_ext autoreload\n",
    "%autoreload 2"
   ]
  },
  {
   "cell_type": "code",
   "execution_count": null,
   "metadata": {},
   "outputs": [],
   "source": [
    "import sys\n",
    "sys.path.append('./RSAlgorithms/')\n"
   ]
  },
  {
   "cell_type": "code",
   "execution_count": null,
   "metadata": {},
   "outputs": [],
   "source": [
    "import pandas as pd\n",
    "import matplotlib.pyplot as plt\n",
    "\n",
    "# Chargement des données des notes\n",
    "# Remplacez 'path_to_ratings_file' par le chemin de votre fichier de notes\n",
    "ratings = pd.read_csv('./RSAlgorithms/data/ep_ratings.txt', sep=' ', names=['user', 'item', 'rating'])\n",
    "\n",
    "# Taille du réseau d'interaction\n",
    "total_interactions = len(ratings)\n",
    "\n",
    "# Distribution des notes\n",
    "plt.hist(ratings['rating'], bins=range(1, ratings['rating'].max() + 2), edgecolor='black', align='left')\n",
    "plt.title(\"Histogramme de la Distribution des Notes\")\n",
    "plt.xlabel(\"Note\")\n",
    "plt.ylabel(\"Nombre d'Interactions\")\n",
    "plt.xticks(range(1, ratings['rating'].max() + 1))\n",
    "plt.show()\n",
    "\n",
    "print(f\"Nombre total d'interactions : {total_interactions}\")\n",
    "\n",
    "\n",
    "\n",
    "\n"
   ]
  },
  {
   "cell_type": "code",
   "execution_count": null,
   "metadata": {},
   "outputs": [],
   "source": [
    "import pandas as pd\n",
    "import networkx as nx\n",
    "import matplotlib.pyplot as plt\n",
    "\n",
    "# Chargement des données de confiance\n",
    "# Remplacez 'path_to_trust_file' par le chemin de votre fichier de confiance\n",
    "trust_data = pd.read_csv('./RSAlgorithms/data/ep_trust.txt', sep=' ', names=['source', 'target', 'trust'])\n",
    "\n",
    "# Création du réseau\n",
    "G = nx.from_pandas_edgelist(trust_data, 'source', 'target', create_using=nx.DiGraph())\n",
    "\n",
    "# Taille du réseau de confiance\n",
    "network_nodes = G.number_of_nodes()\n",
    "network_edges = G.number_of_edges()\n",
    "\n",
    "# Densité du réseau\n",
    "network_density = nx.density(G)\n",
    "\n",
    "# Distribution des degrés\n",
    "degree_distribution = [deg for node, deg in nx.degree(G)]\n",
    "\n",
    "# Histogramme de la distribution des degrés\n",
    "plt.hist(degree_distribution, bins=range(max(degree_distribution)+1), edgecolor='black')\n",
    "plt.title(\"Histogramme de la Distribution des Degrés du Réseau de Confiance\")\n",
    "plt.xlabel(\"Degré\")\n",
    "plt.ylabel(\"Nombre de Noeuds\")\n",
    "plt.show()\n",
    "\n",
    "print(f\"Nombre de nœuds dans le réseau de confiance : {network_nodes}\")\n",
    "print(f\"Nombre d'arêtes dans le réseau de confiance : {network_edges}\")\n",
    "print(f\"Densité du réseau de confiance : {network_density:.6f}\")\n"
   ]
  },
  {
   "cell_type": "code",
   "execution_count": null,
   "metadata": {},
   "outputs": [],
   "source": [
    "ratings_per_user = trust_data.groupby('source')['trust'].count()\n",
    "\n",
    "# Calculate the average number of ratings per user\n",
    "average_ratings_per_user = ratings_per_user.mean()\n",
    "\n",
    "print(average_ratings_per_user)"
   ]
  },
  {
   "cell_type": "code",
   "execution_count": null,
   "metadata": {},
   "outputs": [],
   "source": [
    "from RSAlgorithms.utility.cross_validation import split_5_folds\n",
    "from RSAlgorithms.configx.configx import ConfigX\n",
    "import os \n",
    "import numpy as np\n",
    "import pandas as pd"
   ]
  },
  {
   "cell_type": "code",
   "execution_count": null,
   "metadata": {},
   "outputs": [],
   "source": [
    "configx = ConfigX()"
   ]
  },
  {
   "cell_type": "code",
   "execution_count": null,
   "metadata": {},
   "outputs": [],
   "source": [
    "configx.rating_path"
   ]
  },
  {
   "cell_type": "code",
   "execution_count": null,
   "metadata": {},
   "outputs": [],
   "source": [
    "split_5_folds(configx)"
   ]
  }
 ],
 "metadata": {
  "kernelspec": {
   "display_name": "m2",
   "language": "python",
   "name": "python3"
  },
  "language_info": {
   "codemirror_mode": {
    "name": "ipython",
    "version": 3
   },
   "file_extension": ".py",
   "mimetype": "text/x-python",
   "name": "python",
   "nbconvert_exporter": "python",
   "pygments_lexer": "ipython3",
   "version": "3.9.16"
  }
 },
 "nbformat": 4,
 "nbformat_minor": 2
}
