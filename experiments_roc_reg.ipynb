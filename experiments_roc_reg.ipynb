{
 "cells": [
  {
   "cell_type": "code",
   "execution_count": 2,
   "metadata": {},
   "outputs": [
    {
     "name": "stderr",
     "output_type": "stream",
     "text": [
      "/Users/baptiste/.pyenv/versions/3.9.16/envs/m2/lib/python3.9/site-packages/tqdm/auto.py:21: TqdmWarning: IProgress not found. Please update jupyter and ipywidgets. See https://ipywidgets.readthedocs.io/en/stable/user_install.html\n",
      "  from .autonotebook import tqdm as notebook_tqdm\n"
     ]
    }
   ],
   "source": [
    "from RSAlgorithms.model.social_reg_improved import SocialReg"
   ]
  },
  {
   "cell_type": "code",
   "execution_count": null,
   "metadata": {},
   "outputs": [],
   "source": [
    "rmses = []\n",
    "maes = []\n",
    "tcsr = SocialReg(sim=\"pearson_sp\")\n",
    "# print(bmf.rg.trainSet_u[1])\n",
    "for i in range(tcsr.config.k_fold_num):\n",
    "    print('the %dth cross validation training' % i)\n",
    "    tcsr.train_model(i)\n",
    "    rmse, mae = tcsr.predict_model()\n",
    "    rmses.append(rmse)\n",
    "    maes.append(mae)\n",
    "rmse_avg = sum(rmses) / 5\n",
    "mae_avg = sum(maes) / 5\n",
    "print(\"the rmses are %s\" % rmses)\n",
    "print(\"the maes are %s\" % maes)\n",
    "print(\"the average of rmses is %s \" % rmse_avg)\n",
    "print(\"the average of maes is %s \" % mae_avg)\n"
   ]
  },
  {
   "cell_type": "code",
   "execution_count": null,
   "metadata": {},
   "outputs": [],
   "source": [
    "rmses = []\n",
    "maes = []\n",
    "tcsr = SocialReg(sim=\"nodetovec\")\n",
    "# print(bmf.rg.trainSet_u[1])\n",
    "for i in range(tcsr.config.k_fold_num):\n",
    "    print('the %dth cross validation training' % i)\n",
    "    tcsr.train_model(i)\n",
    "    rmse, mae = tcsr.predict_model()\n",
    "    rmses.append(rmse)\n",
    "    maes.append(mae)\n",
    "rmse_avg = sum(rmses) / 5\n",
    "mae_avg = sum(maes) / 5\n",
    "print(\"the rmses are %s\" % rmses)\n",
    "print(\"the maes are %s\" % maes)\n",
    "print(\"the average of rmses is %s \" % rmse_avg)\n",
    "print(\"the average of maes is %s \" % mae_avg)\n"
   ]
  },
  {
   "cell_type": "code",
   "execution_count": null,
   "metadata": {},
   "outputs": [],
   "source": [
    "rmses = []\n",
    "maes = []\n",
    "tcsr = SocialReg(sim=\"cosine\")\n",
    "# print(bmf.rg.trainSet_u[1])\n",
    "for i in range(tcsr.config.k_fold_num):\n",
    "    print('the %dth cross validation training' % i)\n",
    "    tcsr.train_model(i)\n",
    "    rmse, mae = tcsr.predict_model()\n",
    "    rmses.append(rmse)\n",
    "    maes.append(mae)\n",
    "rmse_avg = sum(rmses) / 5\n",
    "mae_avg = sum(maes) / 5\n",
    "print(\"the rmses are %s\" % rmses)\n",
    "print(\"the maes are %s\" % maes)\n",
    "print(\"the average of rmses is %s \" % rmse_avg)\n",
    "print(\"the average of maes is %s \" % mae_avg)\n"
   ]
  },
  {
   "cell_type": "code",
   "execution_count": null,
   "metadata": {},
   "outputs": [],
   "source": [
    "rmses = []\n",
    "maes = []\n",
    "tcsr = SocialReg(sim=\"jaccard\")\n",
    "# print(bmf.rg.trainSet_u[1])\n",
    "for i in range(tcsr.config.k_fold_num):\n",
    "    print('the %dth cross validation training' % i)\n",
    "    tcsr.train_model(i)\n",
    "    rmse, mae = tcsr.predict_model()\n",
    "    rmses.append(rmse)\n",
    "    maes.append(mae)\n",
    "rmse_avg = sum(rmses) / 5\n",
    "mae_avg = sum(maes) / 5\n",
    "print(\"the rmses are %s\" % rmses)\n",
    "print(\"the maes are %s\" % maes)\n",
    "print(\"the average of rmses is %s \" % rmse_avg)\n",
    "print(\"the average of maes is %s \" % mae_avg)\n"
   ]
  }
 ],
 "metadata": {
  "kernelspec": {
   "display_name": "m2",
   "language": "python",
   "name": "python3"
  },
  "language_info": {
   "codemirror_mode": {
    "name": "ipython",
    "version": 3
   },
   "file_extension": ".py",
   "mimetype": "text/x-python",
   "name": "python",
   "nbconvert_exporter": "python",
   "pygments_lexer": "ipython3",
   "version": "3.9.16"
  }
 },
 "nbformat": 4,
 "nbformat_minor": 2
}
