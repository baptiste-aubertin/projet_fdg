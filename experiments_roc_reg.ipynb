{
 "cells": [
  {
   "cell_type": "code",
   "execution_count": null,
   "metadata": {},
   "outputs": [],
   "source": [
    "from RSAlgorithms.model.social_reg import SocialReg"
   ]
  },
  {
   "cell_type": "code",
   "execution_count": null,
   "metadata": {},
   "outputs": [],
   "source": [
    "rmses = []\n",
    "maes = []\n",
    "tcsr = SocialReg(sim=\"pearson\")\n",
    "# print(bmf.rg.trainSet_u[1])\n",
    "for i in range(tcsr.config.k_fold_num):\n",
    "    print('the %dth cross validation training' % i)\n",
    "    tcsr.train_model(i)\n",
    "    rmse, mae = tcsr.predict_model()\n",
    "    rmses.append(rmse)\n",
    "    maes.append(mae)\n",
    "rmse_avg = sum(rmses) / 5\n",
    "mae_avg = sum(maes) / 5\n",
    "print(\"the rmses are %s\" % rmses)\n",
    "print(\"the maes are %s\" % maes)\n",
    "print(\"the average of rmses is %s \" % rmse_avg)\n",
    "print(\"the average of maes is %s \" % mae_avg)\n"
   ]
  },
  {
   "cell_type": "code",
   "execution_count": null,
   "metadata": {},
   "outputs": [],
   "source": [
    "rmses = []\n",
    "maes = []\n",
    "tcsr = SocialReg(sim=\"pearson\")\n",
    "# print(bmf.rg.trainSet_u[1])\n",
    "for i in range(tcsr.config.k_fold_num):\n",
    "    print('the %dth cross validation training' % i)\n",
    "    tcsr.train_model(i)\n",
    "    rmse, mae = tcsr.predict_model()\n",
    "    rmses.append(rmse)\n",
    "    maes.append(mae)\n",
    "rmse_avg = sum(rmses) / 5\n",
    "mae_avg = sum(maes) / 5\n",
    "print(\"the rmses are %s\" % rmses)\n",
    "print(\"the maes are %s\" % maes)\n",
    "print(\"the average of rmses is %s \" % rmse_avg)\n",
    "print(\"the average of maes is %s \" % mae_avg)\n"
   ]
  },
  {
   "cell_type": "code",
   "execution_count": null,
   "metadata": {},
   "outputs": [],
   "source": [
    "from RSAlgorithms.model.social_reg_grp import SocialReg"
   ]
  },
  {
   "cell_type": "code",
   "execution_count": null,
   "metadata": {},
   "outputs": [],
   "source": [
    "rmses = []\n",
    "maes = []\n",
    "tcsr = SocialReg()\n",
    "# print(bmf.rg.trainSet_u[1])\n",
    "for i in range(tcsr.config.k_fold_num):\n",
    "    print('the %dth cross validation training' % i)\n",
    "    tcsr.train_model(i)\n",
    "    rmse, mae = tcsr.predict_model()\n",
    "    rmses.append(rmse)\n",
    "    maes.append(mae)\n",
    "rmse_avg = sum(rmses) / 5\n",
    "mae_avg = sum(maes) / 5\n",
    "print(\"the rmses are %s\" % rmses)\n",
    "print(\"the maes are %s\" % maes)\n",
    "print(\"the average of rmses is %s \" % rmse_avg)\n",
    "print(\"the average of maes is %s \" % mae_avg)\n"
   ]
  },
  {
   "cell_type": "code",
   "execution_count": null,
   "metadata": {},
   "outputs": [],
   "source": [
    "rmses = []\n",
    "maes = []\n",
    "tcsr = SocialReg()\n",
    "# print(bmf.rg.trainSet_u[1])\n",
    "for i in range(tcsr.config.k_fold_num):\n",
    "    print('the %dth cross validation training' % i)\n",
    "    tcsr.train_model(i)\n",
    "    rmse, mae = tcsr.predict_model()\n",
    "    rmses.append(rmse)\n",
    "    maes.append(mae)\n",
    "rmse_avg = sum(rmses) / 5\n",
    "mae_avg = sum(maes) / 5\n",
    "print(\"the rmses are %s\" % rmses)\n",
    "print(\"the maes are %s\" % maes)\n",
    "print(\"the average of rmses is %s \" % rmse_avg)\n",
    "print(\"the average of maes is %s \" % mae_avg)\n"
   ]
  }
 ],
 "metadata": {
  "kernelspec": {
   "display_name": "m2",
   "language": "python",
   "name": "python3"
  },
  "language_info": {
   "codemirror_mode": {
    "name": "ipython",
    "version": 3
   },
   "file_extension": ".py",
   "mimetype": "text/x-python",
   "name": "python",
   "nbconvert_exporter": "python",
   "pygments_lexer": "ipython3",
   "version": "3.9.16"
  }
 },
 "nbformat": 4,
 "nbformat_minor": 2
}
