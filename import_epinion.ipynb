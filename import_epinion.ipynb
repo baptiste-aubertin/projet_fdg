{
 "cells": [
  {
   "cell_type": "code",
   "execution_count": 1,
   "metadata": {},
   "outputs": [],
   "source": [
    "\n",
    "import os\n",
    "\n",
    "data_path = \"./RSAlgorithms/data/\"\n",
    "\n",
    "prefix = \"ep\"\n"
   ]
  },
  {
   "cell_type": "markdown",
   "metadata": {},
   "source": [
    "Extract ratings"
   ]
  },
  {
   "cell_type": "code",
   "execution_count": 2,
   "metadata": {},
   "outputs": [],
   "source": [
    "# Le fichier fait des millions de lignes ... à réfléchir pour en prendre moins\n",
    "\n",
    "with open(\"./datas/epinions/rating.txt\", \"r\") as f:\n",
    "    lines = f.readlines()\n",
    "    f.close()\n",
    "\n",
    "with open(os.path.join(data_path, f'{prefix}_rating.txt'), \"w\") as f:\n",
    "    for line in lines:\n",
    "        line = line.strip().split()\n",
    "        object_id = line[0]\n",
    "        user_id = line[1]\n",
    "        rating = line[2]\n",
    "        f.write(f'{user_id} {object_id} {rating}\\n')\n",
    "    f.close()\n",
    "\n"
   ]
  },
  {
   "cell_type": "markdown",
   "metadata": {},
   "source": [
    "extract trusts"
   ]
  },
  {
   "cell_type": "code",
   "execution_count": 6,
   "metadata": {},
   "outputs": [],
   "source": [
    "# Le fichier fait des millions de lignes ... à réfléchir pour en prendre moins\n",
    "\n",
    "with open(\"./datas/epinions/user_rating.txt\", \"r\") as f:\n",
    "    lines = f.readlines()\n",
    "    f.close()\n",
    "\n",
    "with open(os.path.join(data_path, f'{prefix}_trust.txt'), \"w\") as f:\n",
    "    for line in lines:\n",
    "        line = line.strip().split()\n",
    "        user_who_trust = line[0]\n",
    "        user_trusted = line[1]\n",
    "        is_trusting = line[2]\n",
    "        if is_trusting == '1':\n",
    "            f.write(f'{user_who_trust} {user_trusted} {is_trusting}\\n')\n",
    "    f.close()\n",
    "\n"
   ]
  }
 ],
 "metadata": {
  "kernelspec": {
   "display_name": "m2",
   "language": "python",
   "name": "python3"
  },
  "language_info": {
   "codemirror_mode": {
    "name": "ipython",
    "version": 3
   },
   "file_extension": ".py",
   "mimetype": "text/x-python",
   "name": "python",
   "nbconvert_exporter": "python",
   "pygments_lexer": "ipython3",
   "version": "3.9.16"
  }
 },
 "nbformat": 4,
 "nbformat_minor": 2
}
