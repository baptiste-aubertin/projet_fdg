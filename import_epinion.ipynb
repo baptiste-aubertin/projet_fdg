{
 "cells": [
  {
   "cell_type": "code",
   "execution_count": 1,
   "metadata": {},
   "outputs": [],
   "source": [
    "\n",
    "import os\n",
    "\n",
    "data_path = \"./RSAlgorithms/data/\"\n",
    "\n",
    "prefix = \"ep\"\n"
   ]
  },
  {
   "cell_type": "markdown",
   "metadata": {},
   "source": [
    "Extract ratings"
   ]
  },
  {
   "cell_type": "code",
   "execution_count": 2,
   "metadata": {},
   "outputs": [
    {
     "name": "stdout",
     "output_type": "stream",
     "text": [
      "100000\n"
     ]
    }
   ],
   "source": [
    "# Le fichier fait des millions de lignes ... à réfléchir pour en prendre moins\n",
    "\n",
    "with open(\"./datas/epinions/rating.txt\", \"r\") as f:\n",
    "    lines = f.readlines()[:100000]\n",
    "    f.close()\n",
    "print(len(lines))"
   ]
  },
  {
   "cell_type": "code",
   "execution_count": 3,
   "metadata": {},
   "outputs": [],
   "source": [
    "import random\n",
    "from tqdm import tqdm\n",
    "random.shuffle(lines)"
   ]
  },
  {
   "cell_type": "code",
   "execution_count": 4,
   "metadata": {},
   "outputs": [
    {
     "name": "stderr",
     "output_type": "stream",
     "text": [
      "100%|██████████| 100000/100000 [00:00<00:00, 952454.31it/s]\n"
     ]
    }
   ],
   "source": [
    "users = []\n",
    "rates = []\n",
    "for line in tqdm(lines):\n",
    "    line = line.strip().split()\n",
    "    object_id = line[0]\n",
    "    user_id = line[1]\n",
    "    users.append(user_id)\n",
    "    rating = line[2]\n",
    "    rates.append([user_id, object_id, rating])"
   ]
  },
  {
   "cell_type": "code",
   "execution_count": 5,
   "metadata": {},
   "outputs": [],
   "source": [
    "# sort by user_id\n",
    "rates.sort(key=lambda x: x[0])"
   ]
  },
  {
   "cell_type": "code",
   "execution_count": 6,
   "metadata": {},
   "outputs": [],
   "source": [
    "\n",
    "with open(os.path.join(data_path, f'{prefix}_ratings.txt'), \"w\") as f:\n",
    "    for r in rates:\n",
    "        f.write(f'{r[0]} {r[1]} {r[2]}\\n')\n",
    "    f.close()"
   ]
  },
  {
   "cell_type": "markdown",
   "metadata": {},
   "source": [
    "extract trusts"
   ]
  },
  {
   "cell_type": "code",
   "execution_count": 7,
   "metadata": {},
   "outputs": [],
   "source": [
    "# Le fichier fait des millions de lignes ... à réfléchir pour en prendre moins\n",
    "\n",
    "with open(\"./datas/epinions/user_rating.txt\", \"r\") as f:\n",
    "    lines = f.readlines()\n",
    "    f.close()\n",
    "    "
   ]
  },
  {
   "cell_type": "code",
   "execution_count": 8,
   "metadata": {},
   "outputs": [],
   "source": [
    "random.shuffle(lines)"
   ]
  },
  {
   "cell_type": "code",
   "execution_count": 9,
   "metadata": {},
   "outputs": [
    {
     "name": "stderr",
     "output_type": "stream",
     "text": [
      "100%|██████████| 841372/841372 [00:00<00:00, 967708.31it/s]\n"
     ]
    }
   ],
   "source": [
    "trusts = []\n",
    "for line in tqdm(lines):\n",
    "        line = line.strip().split()\n",
    "        user_who_trust = line[0]\n",
    "        user_trusted = line[1]\n",
    "        is_trusting = line[2]\n",
    "        if is_trusting == '1': #and user_who_trust in users and user_trusted in users:\n",
    "            trusts.append([user_who_trust, user_trusted, is_trusting])"
   ]
  },
  {
   "cell_type": "code",
   "execution_count": 10,
   "metadata": {},
   "outputs": [],
   "source": [
    "# sort by user who trust\n",
    "trusts.sort(key=lambda x: x[0])"
   ]
  },
  {
   "cell_type": "code",
   "execution_count": 11,
   "metadata": {},
   "outputs": [
    {
     "data": {
      "text/plain": [
       "717667"
      ]
     },
     "execution_count": 11,
     "metadata": {},
     "output_type": "execute_result"
    }
   ],
   "source": [
    "len(trusts)\n",
    "    "
   ]
  },
  {
   "cell_type": "code",
   "execution_count": 12,
   "metadata": {},
   "outputs": [],
   "source": [
    "i = 0\n",
    "with open(os.path.join(data_path, f'{prefix}_trust.txt'), \"w\") as f:\n",
    "    for t in trusts:\n",
    "        f.write(f'{t[0]} {t[1]} {t[2]}\\n')\n",
    "    f.close()"
   ]
  }
 ],
 "metadata": {
  "kernelspec": {
   "display_name": "m2",
   "language": "python",
   "name": "python3"
  },
  "language_info": {
   "codemirror_mode": {
    "name": "ipython",
    "version": 3
   },
   "file_extension": ".py",
   "mimetype": "text/x-python",
   "name": "python",
   "nbconvert_exporter": "python",
   "pygments_lexer": "ipython3",
   "version": "3.9.16"
  }
 },
 "nbformat": 4,
 "nbformat_minor": 2
}
